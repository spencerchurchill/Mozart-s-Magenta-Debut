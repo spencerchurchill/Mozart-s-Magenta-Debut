{
 "cells": [
  {
   "cell_type": "code",
   "execution_count": 1,
   "metadata": {},
   "outputs": [
    {
     "name": "stdout",
     "output_type": "stream",
     "text": [
      "There are 3878 MIDIs.\n"
     ]
    }
   ],
   "source": [
    "import os\n",
    "\n",
    "midis = []\n",
    "\n",
    "for root, directories, filenames in os.walk(\"midi/\"):\n",
    "    for filename in filenames:\n",
    "        midis.append(os.path.join(root,filename))\n",
    "\n",
    "print(\"There are {} MIDIs.\".format(len(midis)))"
   ]
  },
  {
   "cell_type": "code",
   "execution_count": 2,
   "metadata": {},
   "outputs": [],
   "source": [
    "composers = []\n",
    "\n",
    "#first '/' = 5\n",
    "#second '/' = files[i][5:].find('/')+5\n",
    "\n",
    "for i in range(len(midis)):\n",
    "    composers.append(midis[i][5:midis[i][5:].find('/')+5])"
   ]
  },
  {
   "cell_type": "code",
   "execution_count": 3,
   "metadata": {},
   "outputs": [
    {
     "name": "stdout",
     "output_type": "stream",
     "text": [
      "There are 42 composers.\n"
     ]
    }
   ],
   "source": [
    "composer_list = list(set(composers))\n",
    "num_songs = []\n",
    "\n",
    "for i in range(len(composer_list)):\n",
    "    num_songs.append(composers.count(composer_list[i]))\n",
    "\n",
    "print(\"There are {} composers.\".format(len(composer_list)))"
   ]
  },
  {
   "cell_type": "code",
   "execution_count": 7,
   "metadata": {},
   "outputs": [
    {
     "name": "stdout",
     "output_type": "stream",
     "text": [
      "mozart 1488\n",
      "haydn 756\n",
      "beethoven 683\n",
      "schubert 294\n",
      "bach 138\n",
      "kleine 70\n",
      "soler 65\n",
      "albeniz 62\n",
      "clementi 51\n",
      "danzi 36\n",
      "\n",
      "The dataset is 38% Mozart\n"
     ]
    },
    {
     "data": {
      "image/png": "[encoded data removed]",
      "text/plain": [
       "<Figure size 720x450 with 1 Axes>"
      ]
     },
     "metadata": {
      "needs_background": "light"
     },
     "output_type": "display_data"
    }
   ],
   "source": [
    "from matplotlib import pyplot as plt\n",
    "import pandas as pd\n",
    "\n",
    "top_songs = pd.Series(num_songs).nlargest(10)\n",
    "\n",
    "for num in top_songs:\n",
    "    print(composer_list[num_songs.index(num)], num)\n",
    "\n",
    "print(\"\\nThe dataset is {}% Mozart.\".format(round(100*num_songs[composer_list.index('mozart')]/len(midis))))\n",
    "\n",
    "plt.figure(figsize=(8, 5), dpi=90)\n",
    "plt.bar(composer_list, num_songs)\n",
    "plt.xticks(rotation=90)\n",
    "plt.show()"
   ]
  },
  {
   "cell_type": "code",
   "execution_count": 5,
   "metadata": {},
   "outputs": [
    {
     "ename": "ModuleNotFoundError",
     "evalue": "No module named 'magenta'",
     "output_type": "error",
     "traceback": [
      "\u001b[0;31m---------------------------------------------------------------------------\u001b[0m",
      "\u001b[0;31mModuleNotFoundError\u001b[0m                       Traceback (most recent call last)",
      "\u001b[0;32m<ipython-input-5-e4cfb6460936>\u001b[0m in \u001b[0;36m<module>\u001b[0;34m\u001b[0m\n\u001b[1;32m      1\u001b[0m \u001b[0;32mimport\u001b[0m \u001b[0mos\u001b[0m\u001b[0;34m\u001b[0m\u001b[0;34m\u001b[0m\u001b[0m\n\u001b[1;32m      2\u001b[0m \u001b[0;34m\u001b[0m\u001b[0m\n\u001b[0;32m----> 3\u001b[0;31m \u001b[0;32mfrom\u001b[0m \u001b[0mmagenta\u001b[0m\u001b[0;34m.\u001b[0m\u001b[0mmusic\u001b[0m \u001b[0;32mimport\u001b[0m \u001b[0mmidi_io\u001b[0m\u001b[0;34m\u001b[0m\u001b[0;34m\u001b[0m\u001b[0m\n\u001b[0m\u001b[1;32m      4\u001b[0m \u001b[0;32mfrom\u001b[0m \u001b[0mmagenta\u001b[0m\u001b[0;34m.\u001b[0m\u001b[0mmusic\u001b[0m \u001b[0;32mimport\u001b[0m \u001b[0mnote_sequence_io\u001b[0m\u001b[0;34m\u001b[0m\u001b[0;34m\u001b[0m\u001b[0m\n\u001b[1;32m      5\u001b[0m \u001b[0;32mimport\u001b[0m \u001b[0mtensorflow\u001b[0m \u001b[0;32mas\u001b[0m \u001b[0mtf\u001b[0m\u001b[0;34m\u001b[0m\u001b[0;34m\u001b[0m\u001b[0m\n",
      "\u001b[0;31mModuleNotFoundError\u001b[0m: No module named 'magenta'"
     ]
    }
   ],
   "source": [
    "import os\n",
    "\n",
    "from magenta.music import midi_io\n",
    "from magenta.music import note_sequence_io\n",
    "import tensorflow as tf\n",
    "\n",
    "def convert_files(root_dir, sub_dir, writer, recursive=False):\n",
    "  dir_to_convert = os.path.join(root_dir, sub_dir)\n",
    "  tf.logging.info(\"Converting files in '%s'.\", dir_to_convert)\n",
    "  files_in_dir = tf.gfile.ListDirectory(os.path.join(dir_to_convert))\n",
    "  recurse_sub_dirs = []\n",
    "  written_count = 0\n",
    "  for file_in_dir in files_in_dir:\n",
    "    tf.logging.log_every_n(tf.logging.INFO, '%d files converted.',\n",
    "                           1000, written_count)\n",
    "    full_file_path = os.path.join(dir_to_convert, file_in_dir)\n",
    "    if (full_file_path.lower().endswith('.mid') or\n",
    "        full_file_path.lower().endswith('.midi')):\n",
    "      try:\n",
    "        sequence = convert_midi(root_dir, sub_dir, full_file_path)\n",
    "      except Exception as exc:  # pylint: disable=broad-except\n",
    "        tf.logging.fatal('%r generated an exception: %s', full_file_path, exc)\n",
    "        continue\n",
    "      if sequence:\n",
    "        writer.write(sequence)\n",
    "    else:\n",
    "      if recursive and tf.gfile.IsDirectory(full_file_path):\n",
    "        recurse_sub_dirs.append(os.path.join(sub_dir, file_in_dir))\n",
    "      else:\n",
    "        tf.logging.warning(\n",
    "            'Unable to find a converter for file %s', full_file_path)\n",
    "\n",
    "  for recurse_sub_dir in recurse_sub_dirs:\n",
    "    convert_files(root_dir, recurse_sub_dir, writer, recursive)\n",
    "\n",
    "\n",
    "def convert_midi(root_dir, sub_dir, full_file_path):\n",
    "  try:\n",
    "    sequence = midi_io.midi_to_sequence_proto(\n",
    "        tf.gfile.FastGFile(full_file_path, 'rb').read())\n",
    "  except midi_io.MIDIConversionError as e:\n",
    "    tf.logging.warning(\n",
    "        'Could not parse MIDI file %s. It will be skipped. Error was: %s',\n",
    "        full_file_path, e)\n",
    "    return None\n",
    "  sequence.collection_name = os.path.basename(root_dir)\n",
    "  sequence.filename = os.path.join(sub_dir, os.path.basename(full_file_path))\n",
    "  sequence.id = note_sequence_io.generate_note_sequence_id(\n",
    "      sequence.filename, sequence.collection_name, 'midi')\n",
    "  tf.logging.info('Converted MIDI file %s.', full_file_path)\n",
    "  return sequence\n",
    "\n",
    "def convert_directory(root_dir, output_file, recursive=False):\n",
    "  with note_sequence_io.NoteSequenceRecordWriter(output_file) as writer:\n",
    "    convert_files(root_dir, '', writer, recursive)\n",
    "\n",
    "def mainconvert():\n",
    "  input_dir = os.path.expanduser(\"./midi/\")\n",
    "  output_file = os.path.expanduser(\"./notesequences.tfrecord\")\n",
    "  output_dir = os.path.dirname(\".\")\n",
    "\n",
    "  if output_dir:\n",
    "    tf.gfile.MakeDirs(output_dir)\n",
    "\n",
    "  convert_directory(input_dir, output_file, FLAGS.recursive)"
   ]
  },
  {
   "cell_type": "code",
   "execution_count": null,
   "metadata": {},
   "outputs": [],
   "source": [
    "import os\n",
    "\n",
    "from magenta.models.polyphony_rnn import polyphony_model\n",
    "from magenta.models.polyphony_rnn import polyphony_rnn_pipeline\n",
    "from magenta.pipelines import pipeline\n",
    "import tensorflow as tf\n",
    "\n",
    "def mainseparate():\n",
    "    pipeline_instance = polyphony_rnn_pipeline.get_pipeline(\n",
    "        min_steps=80,  # 5 measures\n",
    "        max_steps=512,\n",
    "        eval_ratio=0.1,\n",
    "        config=polyphony_model.default_configs['polyphony'])\n",
    "    input_dir = os.path.expanduser(\"./midi/\")\n",
    "    output_dir = os.path.expanduser(\".\")\n",
    "    pipeline.run_pipeline_serial(\n",
    "      pipeline_instance,\n",
    "      pipeline.tf_record_iterator(input_dir, pipeline_instance.input_type),\n",
    "      output_dir)"
   ]
  },
  {
   "cell_type": "code",
   "execution_count": null,
   "metadata": {},
   "outputs": [],
   "source": []
  }
 ],
 "metadata": {
  "kernelspec": {
   "display_name": "Python 3",
   "language": "python",
   "name": "python3"
  },
  "language_info": {
   "codemirror_mode": {
    "name": "ipython",
    "version": 3
   },
   "file_extension": ".py",
   "mimetype": "text/x-python",
   "name": "python",
   "nbconvert_exporter": "python",
   "pygments_lexer": "ipython3",
   "version": "3.7.1"
  }
 },
 "nbformat": 4,
 "nbformat_minor": 2
}
